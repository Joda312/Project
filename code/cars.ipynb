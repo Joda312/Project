{
 "cells": [
  {
   "cell_type": "markdown",
   "metadata": {},
   "source": [
    "I prevously installed **Pandas** using the command: \"pip install pandas\" via *Anaconda prompt*"
   ]
  },
  {
   "cell_type": "code",
   "execution_count": 19,
   "metadata": {},
   "outputs": [
    {
     "data": {
      "text/plain": [
       "'C:\\\\Users\\\\user\\\\Documents\\\\Project\\\\code'"
      ]
     },
     "execution_count": 19,
     "metadata": {},
     "output_type": "execute_result"
    }
   ],
   "source": [
    "pwd"
   ]
  },
  {
   "cell_type": "code",
   "execution_count": 20,
   "metadata": {},
   "outputs": [],
   "source": [
    "import pandas as pd"
   ]
  },
  {
   "cell_type": "code",
   "execution_count": 21,
   "metadata": {},
   "outputs": [],
   "source": [
    "# reading the csv data file with url:\n",
    "df = pd.read_csv(\"https://osf.io/7gvz9//download\") "
   ]
  },
  {
   "cell_type": "code",
   "execution_count": 22,
   "metadata": {},
   "outputs": [
    {
     "data": {
      "text/html": [
       "<div>\n",
       "<style scoped>\n",
       "    .dataframe tbody tr th:only-of-type {\n",
       "        vertical-align: middle;\n",
       "    }\n",
       "\n",
       "    .dataframe tbody tr th {\n",
       "        vertical-align: top;\n",
       "    }\n",
       "\n",
       "    .dataframe thead th {\n",
       "        text-align: right;\n",
       "    }\n",
       "</style>\n",
       "<table border=\"1\" class=\"dataframe\">\n",
       "  <thead>\n",
       "    <tr style=\"text-align: right;\">\n",
       "      <th></th>\n",
       "      <th>pricestr</th>\n",
       "      <th>area</th>\n",
       "      <th>subarea</th>\n",
       "      <th>name</th>\n",
       "      <th>condition</th>\n",
       "      <th>cylinders</th>\n",
       "      <th>drive</th>\n",
       "      <th>fuel</th>\n",
       "      <th>odometer</th>\n",
       "      <th>paintcolor</th>\n",
       "      <th>...</th>\n",
       "      <th>dealer</th>\n",
       "      <th>price</th>\n",
       "      <th>lnprice</th>\n",
       "      <th>year</th>\n",
       "      <th>age</th>\n",
       "      <th>lnodometer</th>\n",
       "      <th>LE</th>\n",
       "      <th>XLE</th>\n",
       "      <th>SE</th>\n",
       "      <th>Hybrid</th>\n",
       "    </tr>\n",
       "  </thead>\n",
       "  <tbody>\n",
       "    <tr>\n",
       "      <th>0</th>\n",
       "      <td>$4990</td>\n",
       "      <td>chicago</td>\n",
       "      <td>chicago city</td>\n",
       "      <td>2007 Toyota Camry Hybrid</td>\n",
       "      <td>good</td>\n",
       "      <td>4 cylinders</td>\n",
       "      <td>fwd</td>\n",
       "      <td>gas</td>\n",
       "      <td>11.6236</td>\n",
       "      <td>grey</td>\n",
       "      <td>...</td>\n",
       "      <td>1</td>\n",
       "      <td>4990</td>\n",
       "      <td>8.515191</td>\n",
       "      <td>2007</td>\n",
       "      <td>11</td>\n",
       "      <td>2.453038</td>\n",
       "      <td>0</td>\n",
       "      <td>0</td>\n",
       "      <td>0</td>\n",
       "      <td>1</td>\n",
       "    </tr>\n",
       "    <tr>\n",
       "      <th>1</th>\n",
       "      <td>$10625</td>\n",
       "      <td>chicago</td>\n",
       "      <td>chicago city</td>\n",
       "      <td>2009 Toyota Camry Hybrid</td>\n",
       "      <td>NaN</td>\n",
       "      <td>4 cylinders</td>\n",
       "      <td>fwd</td>\n",
       "      <td>hybrid</td>\n",
       "      <td>4.3702</td>\n",
       "      <td>grey</td>\n",
       "      <td>...</td>\n",
       "      <td>1</td>\n",
       "      <td>10625</td>\n",
       "      <td>9.270965</td>\n",
       "      <td>2009</td>\n",
       "      <td>9</td>\n",
       "      <td>1.474809</td>\n",
       "      <td>0</td>\n",
       "      <td>0</td>\n",
       "      <td>0</td>\n",
       "      <td>1</td>\n",
       "    </tr>\n",
       "    <tr>\n",
       "      <th>2</th>\n",
       "      <td>$14850</td>\n",
       "      <td>chicago</td>\n",
       "      <td>chicago city</td>\n",
       "      <td>2015 Toyota_ Camry_</td>\n",
       "      <td>excellent</td>\n",
       "      <td>other</td>\n",
       "      <td>NaN</td>\n",
       "      <td>gas</td>\n",
       "      <td>3.5721</td>\n",
       "      <td>NaN</td>\n",
       "      <td>...</td>\n",
       "      <td>1</td>\n",
       "      <td>14850</td>\n",
       "      <td>9.605755</td>\n",
       "      <td>2015</td>\n",
       "      <td>3</td>\n",
       "      <td>1.273154</td>\n",
       "      <td>0</td>\n",
       "      <td>0</td>\n",
       "      <td>0</td>\n",
       "      <td>0</td>\n",
       "    </tr>\n",
       "    <tr>\n",
       "      <th>3</th>\n",
       "      <td>$15630</td>\n",
       "      <td>chicago</td>\n",
       "      <td>chicago city</td>\n",
       "      <td>2016 TOYOTA CAMRY</td>\n",
       "      <td>NaN</td>\n",
       "      <td>NaN</td>\n",
       "      <td>fwd</td>\n",
       "      <td>gas</td>\n",
       "      <td>1.3152</td>\n",
       "      <td>NaN</td>\n",
       "      <td>...</td>\n",
       "      <td>1</td>\n",
       "      <td>15630</td>\n",
       "      <td>9.656947</td>\n",
       "      <td>2016</td>\n",
       "      <td>2</td>\n",
       "      <td>0.273989</td>\n",
       "      <td>0</td>\n",
       "      <td>0</td>\n",
       "      <td>0</td>\n",
       "      <td>0</td>\n",
       "    </tr>\n",
       "    <tr>\n",
       "      <th>4</th>\n",
       "      <td>$850</td>\n",
       "      <td>chicago</td>\n",
       "      <td>chicago city</td>\n",
       "      <td>1993 toyota camry</td>\n",
       "      <td>good</td>\n",
       "      <td>6 cylinders</td>\n",
       "      <td>fwd</td>\n",
       "      <td>gas</td>\n",
       "      <td>18.7000</td>\n",
       "      <td>red</td>\n",
       "      <td>...</td>\n",
       "      <td>0</td>\n",
       "      <td>850</td>\n",
       "      <td>6.745236</td>\n",
       "      <td>1993</td>\n",
       "      <td>25</td>\n",
       "      <td>2.928524</td>\n",
       "      <td>0</td>\n",
       "      <td>0</td>\n",
       "      <td>0</td>\n",
       "      <td>0</td>\n",
       "    </tr>\n",
       "  </tbody>\n",
       "</table>\n",
       "<p>5 rows × 23 columns</p>\n",
       "</div>"
      ],
      "text/plain": [
       "  pricestr     area       subarea                      name  condition  \\\n",
       "0    $4990  chicago  chicago city  2007 Toyota Camry Hybrid       good   \n",
       "1   $10625  chicago  chicago city  2009 Toyota Camry Hybrid        NaN   \n",
       "2   $14850  chicago  chicago city       2015 Toyota_ Camry_  excellent   \n",
       "3   $15630  chicago  chicago city         2016 TOYOTA CAMRY        NaN   \n",
       "4     $850  chicago  chicago city         1993 toyota camry       good   \n",
       "\n",
       "     cylinders drive    fuel  odometer paintcolor  ... dealer  price  \\\n",
       "0  4 cylinders   fwd     gas   11.6236       grey  ...      1   4990   \n",
       "1  4 cylinders   fwd  hybrid    4.3702       grey  ...      1  10625   \n",
       "2        other   NaN     gas    3.5721        NaN  ...      1  14850   \n",
       "3          NaN   fwd     gas    1.3152        NaN  ...      1  15630   \n",
       "4  6 cylinders   fwd     gas   18.7000        red  ...      0    850   \n",
       "\n",
       "    lnprice  year  age  lnodometer  LE  XLE  SE  Hybrid  \n",
       "0  8.515191  2007   11    2.453038   0    0   0       1  \n",
       "1  9.270965  2009    9    1.474809   0    0   0       1  \n",
       "2  9.605755  2015    3    1.273154   0    0   0       0  \n",
       "3  9.656947  2016    2    0.273989   0    0   0       0  \n",
       "4  6.745236  1993   25    2.928524   0    0   0       0  \n",
       "\n",
       "[5 rows x 23 columns]"
      ]
     },
     "execution_count": 22,
     "metadata": {},
     "output_type": "execute_result"
    }
   ],
   "source": [
    "df.head()\n",
    "# head() prints the first five rows by default; alternatively, one can set the number of rows as follows: head(#_of_rows"
   ]
  },
  {
   "cell_type": "code",
   "execution_count": 23,
   "metadata": {},
   "outputs": [],
   "source": [
    "# generating a list from the column \"area\" to apply 'word_count' function to it later on\n",
    "area_list = df['area'].tolist()"
   ]
  },
  {
   "cell_type": "code",
   "execution_count": 24,
   "metadata": {},
   "outputs": [],
   "source": [
    "df['area_list'] = area_list"
   ]
  },
  {
   "cell_type": "code",
   "execution_count": 25,
   "metadata": {},
   "outputs": [
    {
     "data": {
      "text/plain": [
       "0    chicago\n",
       "1    chicago\n",
       "2    chicago\n",
       "3    chicago\n",
       "4    chicago\n",
       "5    chicago\n",
       "6    chicago\n",
       "7    chicago\n",
       "8    chicago\n",
       "9    chicago\n",
       "Name: area_list, dtype: object"
      ]
     },
     "execution_count": 25,
     "metadata": {},
     "output_type": "execute_result"
    }
   ],
   "source": [
    "df.head(10).area_list"
   ]
  },
  {
   "cell_type": "code",
   "execution_count": 26,
   "metadata": {},
   "outputs": [],
   "source": [
    "# creating a function 'word_count':\n",
    "def word_count(abc):\n",
    "    counter = {}\n",
    "    for word in abc:\n",
    "        if word in counter:\n",
    "            # print('Increment:', word)\n",
    "            counter[word] = counter[word] + 1\n",
    "        else:\n",
    "            # print('First time:', word)\n",
    "            counter[word] = 1\n",
    "        # print(counter)\n",
    "    return counter"
   ]
  },
  {
   "cell_type": "code",
   "execution_count": 27,
   "metadata": {},
   "outputs": [
    {
     "data": {
      "text/plain": [
       "{'chicago': 327, 'los angeles': 222}"
      ]
     },
     "execution_count": 27,
     "metadata": {},
     "output_type": "execute_result"
    }
   ],
   "source": [
    "word_count(area_list)"
   ]
  },
  {
   "cell_type": "markdown",
   "metadata": {},
   "source": [
    "```There are 327 used cars from Chicago and 222 from Los Angeles in the dataset```"
   ]
  },
  {
   "cell_type": "code",
   "execution_count": 28,
   "metadata": {},
   "outputs": [
    {
     "name": "stdout",
     "output_type": "stream",
     "text": [
      "pricestr: $4990\n",
      "area: chicago\n",
      "subarea: chicago city\n",
      "name: 2007 Toyota Camry Hybrid\n",
      "condition: good\n",
      "cylinders: 4 cylinders\n",
      "drive: fwd\n",
      "fuel: gas\n",
      "odometer: 11.6236\n",
      "paintcolor: grey\n",
      "size: nan\n",
      "transmission: automatic\n",
      "type: sedan\n",
      "dealer: 1\n",
      "price: 4990\n",
      "lnprice: 8.5151911\n",
      "year: 2007\n",
      "age: 11\n",
      "lnodometer: 2.4530375\n",
      "LE: 0\n",
      "XLE: 0\n",
      "SE: 0\n",
      "Hybrid: 1\n",
      "area_list: chicago\n"
     ]
    }
   ],
   "source": [
    "for name, values in df.iteritems():\n",
    "    print('{name}: {value}'.format(name=name, value=values[0]))"
   ]
  },
  {
   "cell_type": "code",
   "execution_count": 29,
   "metadata": {},
   "outputs": [
    {
     "name": "stdout",
     "output_type": "stream",
     "text": [
      "0 pricestr\n",
      "1 area\n",
      "2 subarea\n",
      "3 name\n",
      "4 condition\n",
      "5 cylinders\n",
      "6 drive\n",
      "7 fuel\n",
      "8 odometer\n",
      "9 paintcolor\n",
      "10 size\n",
      "11 transmission\n",
      "12 type\n",
      "13 dealer\n",
      "14 price\n",
      "15 lnprice\n",
      "16 year\n",
      "17 age\n",
      "18 lnodometer\n",
      "19 LE\n",
      "20 XLE\n",
      "21 SE\n",
      "22 Hybrid\n",
      "23 area_list\n"
     ]
    }
   ],
   "source": [
    "for ind, column in enumerate(df.columns):\n",
    "    print(ind, column)"
   ]
  },
  {
   "cell_type": "code",
   "execution_count": 30,
   "metadata": {},
   "outputs": [],
   "source": [
    "age_list = df['age'].tolist()"
   ]
  },
  {
   "cell_type": "code",
   "execution_count": 31,
   "metadata": {},
   "outputs": [],
   "source": [
    "old_new = ['new' if n < 8 else 'old' for n in age_list] "
   ]
  },
  {
   "cell_type": "code",
   "execution_count": 32,
   "metadata": {},
   "outputs": [],
   "source": [
    "df['old_new'] = old_new"
   ]
  },
  {
   "cell_type": "code",
   "execution_count": 33,
   "metadata": {},
   "outputs": [
    {
     "data": {
      "text/plain": [
       "0    old\n",
       "1    old\n",
       "2    new\n",
       "3    new\n",
       "4    old\n",
       "Name: old_new, dtype: object"
      ]
     },
     "execution_count": 33,
     "metadata": {},
     "output_type": "execute_result"
    }
   ],
   "source": [
    "df.head().old_new"
   ]
  },
  {
   "cell_type": "code",
   "execution_count": 34,
   "metadata": {},
   "outputs": [],
   "source": [
    "df.to_csv('../data/used-cars.csv')"
   ]
  },
  {
   "cell_type": "code",
   "execution_count": null,
   "metadata": {},
   "outputs": [],
   "source": []
  }
 ],
 "metadata": {
  "kernelspec": {
   "display_name": "Python 3",
   "language": "python",
   "name": "python3"
  },
  "language_info": {
   "codemirror_mode": {
    "name": "ipython",
    "version": 3
   },
   "file_extension": ".py",
   "mimetype": "text/x-python",
   "name": "python",
   "nbconvert_exporter": "python",
   "pygments_lexer": "ipython3",
   "version": "3.8.3"
  }
 },
 "nbformat": 4,
 "nbformat_minor": 4
}
